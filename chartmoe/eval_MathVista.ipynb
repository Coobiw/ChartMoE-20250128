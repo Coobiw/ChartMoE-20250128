{
 "cells": [
  {
   "cell_type": "code",
   "execution_count": 1,
   "metadata": {},
   "outputs": [
    {
     "name": "stderr",
     "output_type": "stream",
     "text": [
      "/data/FinAi_Mapping_Knowledge/qiyiyan/qbw/anaconda3/envs/intern_clean/lib/python3.9/site-packages/tqdm/auto.py:21: TqdmWarning: IProgress not found. Please update jupyter and ipywidgets. See https://ipywidgets.readthedocs.io/en/stable/user_install.html\n",
      "  from .autonotebook import tqdm as notebook_tqdm\n",
      "Generating testmini split: 100%|██████████| 1000/1000 [00:00<00:00, 2662.09 examples/s]\n",
      "Generating test split: 100%|██████████| 5141/5141 [00:01<00:00, 3204.66 examples/s]\n",
      "/data/FinAi_Mapping_Knowledge/qiyiyan/qbw/anaconda3/envs/intern_clean/lib/python3.9/site-packages/huggingface_hub/file_download.py:1132: FutureWarning: `resume_download` is deprecated and will be removed in version 1.0.0. Downloads always resume when possible. If you want to force a new download, use `force_download=True`.\n",
      "  warnings.warn(\n"
     ]
    },
    {
     "name": "stdout",
     "output_type": "stream",
     "text": [
      "Set max length to 4096\n"
     ]
    },
    {
     "name": "stderr",
     "output_type": "stream",
     "text": [
      "/data/FinAi_Mapping_Knowledge/qiyiyan/qbw/anaconda3/envs/intern_clean/lib/python3.9/site-packages/huggingface_hub/file_download.py:1132: FutureWarning: `resume_download` is deprecated and will be removed in version 1.0.0. Downloads always resume when possible. If you want to force a new download, use `force_download=True`.\n",
      "  warnings.warn(\n",
      "Loading checkpoint shards: 100%|██████████| 2/2 [00:09<00:00,  4.89s/it]\n"
     ]
    }
   ],
   "source": [
    "import os\n",
    "os.environ['CUDA_VISIBLE_DEVICES']='7'\n",
    "import sys  \n",
    "import json\n",
    "import torch \n",
    "import argparse\n",
    "import numpy as np\n",
    "from PIL import Image \n",
    "from tqdm import tqdm\n",
    "from datasets import load_dataset\n",
    "from chartmoe.utils.eval_utils import extract_answer\n",
    "from chartmoe import ChartMoE_Robot\n",
    "\n",
    "import openai\n",
    "openai.api_key='sk-8Aw874e32e26fae570bed156b309d5841fc1103ae40PobiF'\n",
    "\n",
    "# dataset = load_dataset(\"AI4Math/MathVista\")\n",
    "dataset = load_dataset(\"/data/FinAi_Mapping_Knowledge/qiyiyan/qbw/cache/MathVista\")\n",
    "\n",
    "robot = ChartMoE_Robot()"
   ]
  },
  {
   "cell_type": "code",
   "execution_count": null,
   "metadata": {},
   "outputs": [],
   "source": [
    "final = {}\n",
    "for d in tqdm(dataset[\"testmini\"]):\n",
    "    q = d['query'] \n",
    "    image = d['decoded_image']\n",
    "    with torch.cuda.amp.autocast():\n",
    "        response, _ = robot.chat(image=image,\n",
    "                            question=q,\n",
    "                            temperature=1.0,\n",
    "                            max_new_tokens=500,\n",
    "                            num_beams=3,\n",
    "                            do_sample=False,\n",
    "                            repetition_penalty=1.0\n",
    "                        )\n",
    "    final[d['pid']] = response"
   ]
  },
  {
   "cell_type": "code",
   "execution_count": null,
   "metadata": {},
   "outputs": [],
   "source": [
    "full_out = {}\n",
    "for d in tqdm(dataset[\"testmini\"]): \n",
    "    res = extract_answer(final[d['pid']], d) \n",
    "    d['extraction'] = res\n",
    "    d['decoded_image'] = ''\n",
    "    full_out[d['pid']] = d "
   ]
  },
  {
   "cell_type": "code",
   "execution_count": null,
   "metadata": {},
   "outputs": [],
   "source": [
    "json.dump(full_out, open('MathVista_Testmini_pred', 'w'))"
   ]
  },
  {
   "cell_type": "code",
   "execution_count": null,
   "metadata": {},
   "outputs": [],
   "source": []
  }
 ],
 "metadata": {
  "kernelspec": {
   "display_name": "Python 3.9.19 ('intern_clean')",
   "language": "python",
   "name": "python3"
  },
  "language_info": {
   "codemirror_mode": {
    "name": "ipython",
    "version": 3
   },
   "file_extension": ".py",
   "mimetype": "text/x-python",
   "name": "python",
   "nbconvert_exporter": "python",
   "pygments_lexer": "ipython3",
   "version": "3.9.19"
  },
  "orig_nbformat": 4,
  "vscode": {
   "interpreter": {
    "hash": "a726b55af14ee9f10619d25e42820b32d50f8ab305998596bdf5d4abd3695153"
   }
  }
 },
 "nbformat": 4,
 "nbformat_minor": 2
}
